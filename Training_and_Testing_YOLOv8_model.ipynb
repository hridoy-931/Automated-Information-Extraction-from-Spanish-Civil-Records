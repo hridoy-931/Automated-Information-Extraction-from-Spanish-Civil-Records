{
 "cells": [
  {
   "cell_type": "code",
   "execution_count": 1,
   "id": "e6b0da45-156f-45c9-b283-c6904eaae2e5",
   "metadata": {},
   "outputs": [
    {
     "name": "stderr",
     "output_type": "stream",
     "text": [
      "Extracting files: 100%|██████████| 10604/10604 [00:11<00:00, 891.17it/s]\n"
     ]
    }
   ],
   "source": [
    "import zipfile\n",
    "from tqdm import tqdm\n",
    "\n",
    "# Open the ZIP file\n",
    "with zipfile.ZipFile('/root/yolov8_dataset_5297.zip', 'r') as zip_ref:\n",
    "    # Get the list of files in the ZIP archive\n",
    "    file_list = zip_ref.namelist()\n",
    "    \n",
    "    # Initialize tqdm progress bar\n",
    "    with tqdm(total=len(file_list), desc=\"Extracting files\") as pbar:\n",
    "        # Extract each file\n",
    "        for file in file_list:\n",
    "            zip_ref.extract(file, '/root/H')\n",
    "            # Update the progress bar\n",
    "            pbar.update(1)"
   ]
  },
  {
   "cell_type": "code",
   "execution_count": 3,
   "id": "0359273b-3581-4f5b-ab29-5b802336d7c8",
   "metadata": {},
   "outputs": [],
   "source": [
    "from ultralytics import YOLO\n",
    "import matplotlib.pyplot as plt\n",
    "import cv2\n",
    "import os\n",
    "import random\n",
    "import pandas as pd\n",
    "import matplotlib.image as mpimg\n",
    "import seaborn as sns\n",
    "import torch\n",
    "sns.set_style('darkgrid')\n",
    "%matplotlib inline"
   ]
  },
  {
   "cell_type": "code",
   "execution_count": null,
   "id": "58b4f6b8-6b7e-4308-b45a-00bbe012e51b",
   "metadata": {},
   "outputs": [],
   "source": [
    "height = 640\n",
    "width = 640\n",
    "\n",
    "def train_model():\n",
    "    # Check CUDA availability inside the function\n",
    "    cuda_available = torch.cuda.is_available()\n",
    "    device = 'cuda' if cuda_available else 'cpu'\n",
    "    print(f\"Using device: {device}\")\n",
    "\n",
    "    model = YOLO('yolov8n.pt')\n",
    "    results = model.train(\n",
    "        data=\"/root/yolov8_dataset_5297/data.yaml\",\n",
    "        epochs=900,\n",
    "        imgsz=(height, width),\n",
    "        seed=42,\n",
    "        batch=16 if cuda_available else 4,  # Adjust batch size based on device\n",
    "        workers=8 if cuda_available else 2,  # Adjust workers based on device\n",
    "        device=0 if cuda_available else 'cpu',  # Uses all available GPUs if CUDA is available\n",
    "        patience=100,\n",
    "        lr0=0.01,\n",
    "        lrf=0.001,\n",
    "        amp=True  # Enable mixed precision training\n",
    "    )\n",
    "    return results\n",
    "\n",
    "if __name__ == '__main__':\n",
    "    results = train_model()\n",
    "    print(\"Training complete. Results:\", results)"
   ]
  },
  {
   "cell_type": "code",
   "execution_count": null,
   "id": "46a682e3-5e6d-4af1-a257-f1da8b804923",
   "metadata": {},
   "outputs": [],
   "source": [
    "import matplotlib.pyplot as plt\n",
    "import os\n",
    "import cv2\n",
    "model = YOLO(\"/root/runs/detect/train/weights/last.pt\")\n",
    "def detect_records(input_folder):\n",
    "    # Iterate over all images in the input folder\n",
    "    for filename in os.listdir(input_folder):\n",
    "        if filename.endswith(('.jpg', '.jpeg', '.png')):\n",
    "            img_path = os.path.join(input_folder, filename)\n",
    "            img = cv2.imread(img_path)\n",
    "            results = model(img)\n",
    "            for result in results:\n",
    "                if result.boxes.data.shape[0] > 0:  # Check for detections+\n",
    "                    for i, box in enumerate(result.boxes.data.tolist()):\n",
    "                        xmin, ymin, xmax, ymax, conf, cls = box\n",
    "\n",
    "                        # Draw the bounding box on the image\n",
    "                        cv2.rectangle(img, (int(xmin), int(ymin)), (int(xmax), int(ymax)), (0, 255, 0), 5)\n",
    "\n",
    "            plt.imshow(cv2.cvtColor(img, cv2.COLOR_BGR2RGB))\n",
    "            plt.title(f\"Detections on {filename}\")\n",
    "            plt.axis('off')\n",
    "            plt.show()\n",
    "\n",
    "input_folder = \"/root/yolov8_dataset_5297/test/images\"\n",
    "detect_records(input_folder)"
   ]
  }
 ],
 "metadata": {
  "kernelspec": {
   "display_name": "Python 3 (ipykernel)",
   "language": "python",
   "name": "python3"
  },
  "language_info": {
   "codemirror_mode": {
    "name": "ipython",
    "version": 3
   },
   "file_extension": ".py",
   "mimetype": "text/x-python",
   "name": "python",
   "nbconvert_exporter": "python",
   "pygments_lexer": "ipython3",
   "version": "3.8.10"
  }
 },
 "nbformat": 4,
 "nbformat_minor": 5
}
