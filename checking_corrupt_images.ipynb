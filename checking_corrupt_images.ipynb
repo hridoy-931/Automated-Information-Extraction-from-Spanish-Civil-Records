{
 "cells": [
  {
   "cell_type": "code",
   "execution_count": 2,
   "id": "e8b6e414-70ff-4f2d-8fe6-bc42048de86f",
   "metadata": {},
   "outputs": [
    {
     "name": "stderr",
     "output_type": "stream",
     "text": [
      "Checking images: 100%|██████████| 124/124 [00:37<00:00,  3.28it/s]"
     ]
    },
    {
     "name": "stdout",
     "output_type": "stream",
     "text": [
      "No corrupted images found.\n"
     ]
    },
    {
     "name": "stderr",
     "output_type": "stream",
     "text": [
      "\n"
     ]
    }
   ],
   "source": [
    "import os\n",
    "from PIL import Image\n",
    "import torch\n",
    "from torchvision import transforms\n",
    "from tqdm import tqdm\n",
    "\n",
    "def check_image(file_path):\n",
    "    try:\n",
    "        # Try opening the image with PIL\n",
    "        with Image.open(file_path) as img:\n",
    "            img.verify()\n",
    "        \n",
    "        # Try loading and transforming the image with PyTorch\n",
    "        transform = transforms.Compose([\n",
    "            transforms.ToTensor(),\n",
    "        ])\n",
    "        img = Image.open(file_path).convert('RGB')\n",
    "        tensor = transform(img)\n",
    "        \n",
    "        # Check for NaN or Inf values\n",
    "        if torch.isnan(tensor).any() or torch.isinf(tensor).any():\n",
    "            return False, \"Image contains NaN or Inf values\"\n",
    "        \n",
    "        return True, \"Image is valid\"\n",
    "    except Exception as e:\n",
    "        return False, str(e)\n",
    "\n",
    "def scan_directory(directory):\n",
    "    corrupted_images = []\n",
    "    for root, _, files in os.walk(directory):\n",
    "        for file in tqdm(files, desc=\"Checking images\"):\n",
    "            if file.lower().endswith(('.png', '.jpg', '.jpeg', '.tiff', '.bmp', '.gif')):\n",
    "                file_path = os.path.join(root, file)\n",
    "                is_valid, message = check_image(file_path)\n",
    "                if not is_valid:\n",
    "                    corrupted_images.append((file_path, message))\n",
    "    return corrupted_images\n",
    "\n",
    "# Usage\n",
    "image_directory = \"/root/227_yolo_training_Dataset/val/images\"\n",
    "corrupted = scan_directory(image_directory)\n",
    "\n",
    "if corrupted:\n",
    "    print(\"Corrupted images found:\")\n",
    "    for img, msg in corrupted:\n",
    "        print(f\"{img}: {msg}\")\n",
    "else:\n",
    "    print(\"No corrupted images found.\")"
   ]
  }
 ],
 "metadata": {
  "kernelspec": {
   "display_name": "Python 3 (ipykernel)",
   "language": "python",
   "name": "python3"
  },
  "language_info": {
   "codemirror_mode": {
    "name": "ipython",
    "version": 3
   },
   "file_extension": ".py",
   "mimetype": "text/x-python",
   "name": "python",
   "nbconvert_exporter": "python",
   "pygments_lexer": "ipython3",
   "version": "3.8.10"
  }
 },
 "nbformat": 4,
 "nbformat_minor": 5
}
