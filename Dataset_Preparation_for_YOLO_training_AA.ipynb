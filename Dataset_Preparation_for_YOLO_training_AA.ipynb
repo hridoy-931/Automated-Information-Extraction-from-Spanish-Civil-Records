{
 "cells": [
  {
   "cell_type": "markdown",
   "id": "a2bedb0b-03e6-4c42-976a-da4a88ba4f24",
   "metadata": {},
   "source": [
    "# Dataset Preparation for YOLO after Annotation"
   ]
  },
  {
   "cell_type": "markdown",
   "id": "8605343c-1cd1-418d-a7fb-841bb4cd2d53",
   "metadata": {
    "jp-MarkdownHeadingCollapsed": true
   },
   "source": [
    "## Transfer all imgs and txts to a new folder matching via names"
   ]
  },
  {
   "cell_type": "code",
   "execution_count": 1,
   "id": "5595cc7b-3f4c-4614-b267-5c0d92424fe1",
   "metadata": {},
   "outputs": [
    {
     "name": "stdout",
     "output_type": "stream",
     "text": [
      "Copied 5297 images and text files to C://Users//3286089//Desktop//219_New_YOLO_training_dataset_5aug24\n"
     ]
    }
   ],
   "source": [
    "import os\n",
    "import shutil\n",
    "\n",
    "# Function to get the filenames without extensions\n",
    "def get_filenames_without_extension(files):\n",
    "    return set(os.path.splitext(f)[0] for f in files)\n",
    "\n",
    "# Path to the folder containing the images and text files\n",
    "source_folder = \"C://Users//3286089//Desktop//219_All_Annotated_Files\"  # Replace with your folder path\n",
    "destination_folder = \"C://Users//3286089//Desktop//219_New_YOLO_training_dataset_5aug24\"  # Replace with your folder path\n",
    "\n",
    "# Ensure the destination folder exists\n",
    "os.makedirs(destination_folder, exist_ok=True)\n",
    "\n",
    "# Get the list of all files in the source folder\n",
    "all_files = os.listdir(source_folder)\n",
    "\n",
    "# Separate image and text files\n",
    "image_files = [f for f in all_files if f.lower().endswith(('.png', '.jpg', '.jpeg', '.bmp', '.gif', '.tiff'))]\n",
    "text_files = [f for f in all_files if f.lower().endswith('.txt')]\n",
    "\n",
    "# Get the base filenames (without extension) for both images and text files\n",
    "image_filenames = get_filenames_without_extension(image_files)\n",
    "text_filenames = get_filenames_without_extension(text_files)\n",
    "\n",
    "# Find the common filenames\n",
    "common_filenames = image_filenames.intersection(text_filenames)\n",
    "\n",
    "# Copy the matching image and text files to the destination folder\n",
    "for filename in common_filenames:\n",
    "    # Full file paths\n",
    "    image_path = os.path.join(source_folder, filename)\n",
    "    text_path = os.path.join(source_folder, filename + '.txt')\n",
    "    \n",
    "    # Copy image file (check for supported formats)\n",
    "    for ext in ['.png', '.jpg', '.jpeg', '.bmp', '.gif', '.tiff']:\n",
    "        img_file = image_path + ext\n",
    "        if os.path.exists(img_file):\n",
    "            shutil.copy(img_file, destination_folder)\n",
    "            break\n",
    "    \n",
    "    # Copy corresponding text file\n",
    "    shutil.copy(text_path, destination_folder)\n",
    "\n",
    "print(f'Copied {len(common_filenames)} images and text files to {destination_folder}')\n"
   ]
  },
  {
   "cell_type": "markdown",
   "id": "2387b666-5fc9-4574-8660-11936ac76ff6",
   "metadata": {
    "jp-MarkdownHeadingCollapsed": true
   },
   "source": [
    "## Separate those imgs and txt into separate images and texts sub folders"
   ]
  },
  {
   "cell_type": "code",
   "execution_count": 2,
   "id": "d253456f-7bf2-4207-9f47-924a87c7c255",
   "metadata": {},
   "outputs": [
    {
     "name": "stdout",
     "output_type": "stream",
     "text": [
      "Files have been organized into C://Users//3286089//Desktop//219_New_YOLO_training_dataset_5aug24\\images and C://Users//3286089//Desktop//219_New_YOLO_training_dataset_5aug24\\labels.\n"
     ]
    }
   ],
   "source": [
    "import os\n",
    "import shutil\n",
    "\n",
    "# Path to the folder containing the images and text files\n",
    "main_folder = 'C://Users//3286089//Desktop//219_New_YOLO_training_dataset_5aug24'  # Replace with your folder path\n",
    "\n",
    "# Paths for the subfolders\n",
    "images_folder = os.path.join(main_folder, 'images')\n",
    "labels_folder = os.path.join(main_folder, 'labels')\n",
    "\n",
    "# Ensure the subfolders exist, if not, create them\n",
    "os.makedirs(images_folder, exist_ok=True)\n",
    "os.makedirs(labels_folder, exist_ok=True)\n",
    "\n",
    "# Get the list of all files in the main folder\n",
    "all_files = os.listdir(main_folder)\n",
    "\n",
    "# Move image and text files to respective subfolders\n",
    "for file in all_files:\n",
    "    # Check for image files\n",
    "    if file.lower().endswith(('.png', '.jpg', '.jpeg', '.bmp', '.gif', '.tiff')):\n",
    "        shutil.move(os.path.join(main_folder, file), images_folder)\n",
    "    \n",
    "    # Check for text files\n",
    "    elif file.lower().endswith('.txt'):\n",
    "        shutil.move(os.path.join(main_folder, file), labels_folder)\n",
    "\n",
    "print(f'Files have been organized into {images_folder} and {labels_folder}.')\n"
   ]
  },
  {
   "cell_type": "markdown",
   "id": "9ca94a6f-bc9e-4d54-8861-a74c5a784a6f",
   "metadata": {
    "jp-MarkdownHeadingCollapsed": true
   },
   "source": [
    "## Preparing Yolo dataset (train,test,validation)"
   ]
  },
  {
   "cell_type": "code",
   "execution_count": 5,
   "id": "9feef4bd-b443-4f3d-ad74-bf21771671d5",
   "metadata": {},
   "outputs": [
    {
     "name": "stdout",
     "output_type": "stream",
     "text": [
      "Files have been successfully copied into train, validation, and test sets.\n"
     ]
    }
   ],
   "source": [
    "import os\n",
    "import shutil\n",
    "import random\n",
    "\n",
    "# Paths\n",
    "source_img_dir = \"C://Users//3286089//Desktop//219_New_YOLO_training_dataset_5aug24//images\"  # Directory where images are located\n",
    "source_txt_dir = \"C://Users//3286089//Desktop//219_New_YOLO_training_dataset_5aug24//labels\"   # Directory where text files are located\n",
    "train_dir = \"C://Users//3286089//Desktop//219_New_YOLO_training_dataset_5aug24//train\"  # Directory to store training set\n",
    "test_dir = \"C://Users//3286089//Desktop//219_New_YOLO_training_dataset_5aug24//test\"    # Directory to store testing set\n",
    "val_dir = \"C://Users//3286089//Desktop//219_New_YOLO_training_dataset_5aug24//val\"      # Directory to store validation set\n",
    "\n",
    "# Create directories if they don't exist\n",
    "for dir_path in [train_dir, val_dir, test_dir]:\n",
    "    os.makedirs(os.path.join(dir_path, 'images'), exist_ok=True)\n",
    "    os.makedirs(os.path.join(dir_path, 'labels'), exist_ok=True)\n",
    "\n",
    "# Get list of image and text files\n",
    "image_files = [f for f in os.listdir(source_img_dir) if f.lower().endswith(('.png', '.jpg', '.jpeg'))]\n",
    "text_files = [f for f in os.listdir(source_txt_dir) if f.lower().endswith('.txt')]\n",
    "\n",
    "# Get filenames without extensions for matching\n",
    "image_filenames = set(os.path.splitext(f)[0] for f in image_files)\n",
    "text_filenames = set(os.path.splitext(f)[0] for f in text_files)\n",
    "\n",
    "# Ensure we have matching image and text files\n",
    "common_filenames = image_filenames.intersection(text_filenames)\n",
    "\n",
    "# Filter the matching image and text files\n",
    "image_files = [f for f in image_files if os.path.splitext(f)[0] in common_filenames]\n",
    "text_files = [f for f in text_files if os.path.splitext(f)[0] in common_filenames]\n",
    "\n",
    "# Ensure there are exactly 80 matching images and text files\n",
    "assert len(image_files) == 5327 and len(text_files) == 5327, \"There should be 80 images and 80 matching text files.\"\n",
    "\n",
    "# Shuffle the files\n",
    "combined = list(zip(image_files, text_files))\n",
    "random.shuffle(combined)\n",
    "image_files, text_files = zip(*combined)\n",
    "\n",
    "# Define counts\n",
    "train_count = 3729\n",
    "val_count = 1065\n",
    "test_count = 533\n",
    "\n",
    "# Split files\n",
    "train_images = image_files[:train_count]\n",
    "train_texts = text_files[:train_count]\n",
    "\n",
    "val_images = image_files[train_count:train_count + val_count]\n",
    "val_texts = text_files[train_count:train_count + val_count]\n",
    "\n",
    "test_images = image_files[train_count + val_count:]\n",
    "test_texts = text_files[train_count + val_count:]\n",
    "\n",
    "# Function to copy files to their respective directories\n",
    "def copy_files(files, source_dir, destination_dir, file_type):\n",
    "    for file_name in files:\n",
    "        source_file = os.path.join(source_dir, file_name)\n",
    "        destination_file = os.path.join(destination_dir, file_type, file_name)\n",
    "        shutil.copy2(source_file, destination_file)  # Copy instead of moving\n",
    "\n",
    "# Copy files\n",
    "copy_files(train_images, source_img_dir, train_dir, 'images')\n",
    "copy_files(train_texts, source_txt_dir, train_dir, 'labels')\n",
    "\n",
    "copy_files(val_images, source_img_dir, val_dir, 'images')\n",
    "copy_files(val_texts, source_txt_dir, val_dir, 'labels')\n",
    "\n",
    "copy_files(test_images, source_img_dir, test_dir, 'images')\n",
    "copy_files(test_texts, source_txt_dir, test_dir, 'labels')\n",
    "\n",
    "print(\"Files have been successfully copied into train, validation, and test sets.\")\n"
   ]
  }
 ],
 "metadata": {
  "kernelspec": {
   "display_name": "Python 3 (ipykernel)",
   "language": "python",
   "name": "python3"
  },
  "language_info": {
   "codemirror_mode": {
    "name": "ipython",
    "version": 3
   },
   "file_extension": ".py",
   "mimetype": "text/x-python",
   "name": "python",
   "nbconvert_exporter": "python",
   "pygments_lexer": "ipython3",
   "version": "3.11.7"
  }
 },
 "nbformat": 4,
 "nbformat_minor": 5
}
